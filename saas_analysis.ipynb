{
 "cells": [
  {
   "cell_type": "code",
   "execution_count": 1,
   "id": "8f478d27-a0c7-4614-bbc6-f5e14d7ff56f",
   "metadata": {},
   "outputs": [],
   "source": [
    "import pandas as pd\n",
    "import matplotlib.pyplot as plt\n",
    "import seaborn as sns\n",
    "plt.style.use('seaborn-v0_8-whitegrid')\n",
    "sns.set_palette('Set2')\n",
    "pd.set_option('display.max_columns', None)"
   ]
  },
  {
   "cell_type": "code",
   "execution_count": 2,
   "id": "c5e54ea3-23d9-407a-bf6a-6a741178d098",
   "metadata": {},
   "outputs": [],
   "source": [
    "accounts = pd.read_csv(r\"C:\\Users\\ASUS\\saas analytics\\ravenstack_accounts.csv\")\n",
    "subscriptions = pd.read_csv(r\"C:\\Users\\ASUS\\saas analytics\\ravenstack_subscriptions.csv\")\n",
    "churn_events = pd.read_csv(r\"C:\\Users\\ASUS\\saas analytics\\ravenstack_churn_events.csv\")"
   ]
  },
  {
   "cell_type": "markdown",
   "id": "9695b8e9-0812-4c61-b127-09844412d26a",
   "metadata": {},
   "source": [
    "### Step 1: Exlporing the data"
   ]
  },
  {
   "cell_type": "code",
   "execution_count": 4,
   "id": "5f040fe7-9e87-4c8f-b04f-2e09791ecfe6",
   "metadata": {},
   "outputs": [
    {
     "name": "stdout",
     "output_type": "stream",
     "text": [
      "=== ACCOUNTS ===\n",
      "(500, 10)\n",
      "<class 'pandas.core.frame.DataFrame'>\n",
      "RangeIndex: 500 entries, 0 to 499\n",
      "Data columns (total 10 columns):\n",
      " #   Column           Non-Null Count  Dtype \n",
      "---  ------           --------------  ----- \n",
      " 0   account_id       500 non-null    object\n",
      " 1   account_name     500 non-null    object\n",
      " 2   industry         500 non-null    object\n",
      " 3   country          500 non-null    object\n",
      " 4   signup_date      500 non-null    object\n",
      " 5   referral_source  500 non-null    object\n",
      " 6   plan_tier        500 non-null    object\n",
      " 7   seats            500 non-null    int64 \n",
      " 8   is_trial         500 non-null    bool  \n",
      " 9   churn_flag       500 non-null    bool  \n",
      "dtypes: bool(2), int64(1), object(7)\n",
      "memory usage: 32.4+ KB\n",
      "None\n",
      "  account_id account_name    industry country signup_date referral_source  \\\n",
      "0   A-2e4581    Company_0      EdTech      US  2024-10-16         partner   \n",
      "1   A-43a9e3    Company_1     FinTech      IN  2023-08-17           other   \n",
      "2   A-0a282f    Company_2    DevTools      US  2024-08-27         organic   \n",
      "3   A-1f0ac7    Company_3  HealthTech      UK  2023-08-27           other   \n",
      "4   A-ce550d    Company_4  HealthTech      US  2024-10-27           event   \n",
      "\n",
      "    plan_tier  seats  is_trial  churn_flag  \n",
      "0       Basic      9     False       False  \n",
      "1       Basic     18     False        True  \n",
      "2       Basic      1     False       False  \n",
      "3       Basic     24      True       False  \n",
      "4  Enterprise     35     False        True  \n"
     ]
    }
   ],
   "source": [
    "print(\"=== ACCOUNTS ===\")\n",
    "print(accounts.shape)\n",
    "print(accounts.info())\n",
    "print(accounts.head())"
   ]
  },
  {
   "cell_type": "code",
   "execution_count": 5,
   "id": "59d48c25-c39c-4468-8d5c-5fe5838bea27",
   "metadata": {},
   "outputs": [
    {
     "name": "stdout",
     "output_type": "stream",
     "text": [
      "\n",
      "=== SUBSCRIPTIONS ===\n",
      "(5000, 14)\n",
      "<class 'pandas.core.frame.DataFrame'>\n",
      "RangeIndex: 5000 entries, 0 to 4999\n",
      "Data columns (total 14 columns):\n",
      " #   Column             Non-Null Count  Dtype \n",
      "---  ------             --------------  ----- \n",
      " 0   subscription_id    5000 non-null   object\n",
      " 1   account_id         5000 non-null   object\n",
      " 2   start_date         5000 non-null   object\n",
      " 3   end_date           486 non-null    object\n",
      " 4   plan_tier          5000 non-null   object\n",
      " 5   seats              5000 non-null   int64 \n",
      " 6   mrr_amount         5000 non-null   int64 \n",
      " 7   arr_amount         5000 non-null   int64 \n",
      " 8   is_trial           5000 non-null   bool  \n",
      " 9   upgrade_flag       5000 non-null   bool  \n",
      " 10  downgrade_flag     5000 non-null   bool  \n",
      " 11  churn_flag         5000 non-null   bool  \n",
      " 12  billing_frequency  5000 non-null   object\n",
      " 13  auto_renew_flag    5000 non-null   bool  \n",
      "dtypes: bool(5), int64(3), object(6)\n",
      "memory usage: 376.1+ KB\n",
      "None\n",
      "  subscription_id account_id  start_date    end_date   plan_tier  seats  \\\n",
      "0        S-8cec59   A-3c1a3f  2023-12-23  2024-04-12  Enterprise     14   \n",
      "1        S-0f6f44   A-9b9fe9  2024-06-11         NaN         Pro     17   \n",
      "2        S-51c0d1   A-659280  2024-11-25         NaN  Enterprise     62   \n",
      "3        S-f81687   A-e7a1e2  2024-11-23  2024-12-13  Enterprise      5   \n",
      "4        S-cff5a2   A-ba6516  2024-01-10         NaN  Enterprise     27   \n",
      "\n",
      "   mrr_amount  arr_amount  is_trial  upgrade_flag  downgrade_flag  churn_flag  \\\n",
      "0        2786       33432     False         False           False        True   \n",
      "1         833        9996     False         False           False       False   \n",
      "2           0           0      True          True           False       False   \n",
      "3         995       11940     False         False           False        True   \n",
      "4        5373       64476     False         False           False       False   \n",
      "\n",
      "  billing_frequency  auto_renew_flag  \n",
      "0           monthly             True  \n",
      "1           monthly             True  \n",
      "2            annual            False  \n",
      "3           monthly             True  \n",
      "4           monthly             True  \n"
     ]
    }
   ],
   "source": [
    "print(\"\\n=== SUBSCRIPTIONS ===\")\n",
    "print(subscriptions.shape)\n",
    "print(subscriptions.info())\n",
    "print(subscriptions.head())"
   ]
  },
  {
   "cell_type": "code",
   "execution_count": 6,
   "id": "c9160555-464c-40c6-a331-6de8be7fc12d",
   "metadata": {},
   "outputs": [
    {
     "name": "stdout",
     "output_type": "stream",
     "text": [
      "\n",
      "=== CHURN EVENTS ===\n",
      "(600, 9)\n",
      "<class 'pandas.core.frame.DataFrame'>\n",
      "RangeIndex: 600 entries, 0 to 599\n",
      "Data columns (total 9 columns):\n",
      " #   Column                    Non-Null Count  Dtype  \n",
      "---  ------                    --------------  -----  \n",
      " 0   churn_event_id            600 non-null    object \n",
      " 1   account_id                600 non-null    object \n",
      " 2   churn_date                600 non-null    object \n",
      " 3   reason_code               600 non-null    object \n",
      " 4   refund_amount_usd         600 non-null    float64\n",
      " 5   preceding_upgrade_flag    600 non-null    bool   \n",
      " 6   preceding_downgrade_flag  600 non-null    bool   \n",
      " 7   is_reactivation           600 non-null    bool   \n",
      " 8   feedback_text             452 non-null    object \n",
      "dtypes: bool(3), float64(1), object(5)\n",
      "memory usage: 30.0+ KB\n",
      "None\n",
      "  churn_event_id account_id  churn_date reason_code  refund_amount_usd  \\\n",
      "0       C-816288   A-c37cab  2024-10-27     pricing               4.03   \n",
      "1       C-5a81e7   A-37f969  2024-06-25     support              96.45   \n",
      "2       C-a174be   A-b07346  2024-11-12      budget               0.00   \n",
      "3       C-accb39   A-1e50e0  2023-11-01      budget              54.94   \n",
      "4       C-92f889   A-956988  2024-12-30     unknown               0.00   \n",
      "\n",
      "   preceding_upgrade_flag  preceding_downgrade_flag  is_reactivation  \\\n",
      "0                   False                     False            False   \n",
      "1                    True                     False            False   \n",
      "2                   False                     False            False   \n",
      "3                   False                     False            False   \n",
      "4                   False                      True             True   \n",
      "\n",
      "            feedback_text  \n",
      "0  switched to competitor  \n",
      "1                     NaN  \n",
      "2        missing features  \n",
      "3  switched to competitor  \n",
      "4           too expensive  \n"
     ]
    }
   ],
   "source": [
    "print(\"\\n=== CHURN EVENTS ===\")\n",
    "print(churn_events.shape)\n",
    "print(churn_events.info())\n",
    "print(churn_events.head())"
   ]
  },
  {
   "cell_type": "markdown",
   "id": "6800a959-9e8f-4de7-a5e5-99dcaccc973c",
   "metadata": {},
   "source": [
    "### Step 2: Data Cleaning and Preparation"
   ]
  },
  {
   "cell_type": "markdown",
   "id": "a77f1991-8c09-4d81-b11d-52065a70ba4f",
   "metadata": {},
   "source": [
    "##### Converting date columns to datetime format"
   ]
  },
  {
   "cell_type": "code",
   "execution_count": 9,
   "id": "101c24a2-9d68-4a03-9521-bfcf792cd5bf",
   "metadata": {},
   "outputs": [],
   "source": [
    "accounts[\"signup_date\"] = pd.to_datetime(accounts[\"signup_date\"],errors=\"coerce\")\n",
    "subscriptions[\"start_date\"] = pd.to_datetime(subscriptions[\"start_date\"],errors=\"coerce\")\n",
    "churn_events[\"churn_date\"] = pd.to_datetime(churn_events[\"churn_date\"],errors=\"coerce\")"
   ]
  },
  {
   "cell_type": "markdown",
   "id": "0a65483b-13b1-4ff6-beef-d70e9cfcbcee",
   "metadata": {},
   "source": [
    "##### Checking and removing duplicates"
   ]
  },
  {
   "cell_type": "code",
   "execution_count": 11,
   "id": "b9cbb39f-070d-479f-a1fb-7870bb1548e8",
   "metadata": {},
   "outputs": [
    {
     "name": "stdout",
     "output_type": "stream",
     "text": [
      "Duplicates before cleaning:\n",
      "Accounts: 0\n",
      "Subscriptions: 0\n",
      "Churn Events: 0\n"
     ]
    }
   ],
   "source": [
    "print(\"Duplicates before cleaning:\")\n",
    "print(\"Accounts:\", accounts.duplicated().sum())\n",
    "print(\"Subscriptions:\", subscriptions.duplicated().sum())\n",
    "print(\"Churn Events:\", churn_events.duplicated().sum())"
   ]
  },
  {
   "cell_type": "markdown",
   "id": "21e8ebe5-4b42-4e8c-bd18-6ec1d545bd88",
   "metadata": {},
   "source": [
    "##### Verifying missing data"
   ]
  },
  {
   "cell_type": "code",
   "execution_count": 13,
   "id": "17c7259f-25c0-4e4e-b7a4-a726bd9c706d",
   "metadata": {},
   "outputs": [
    {
     "name": "stdout",
     "output_type": "stream",
     "text": [
      "\n",
      "Missing values summary:\n",
      "Accounts: \n",
      " account_id         0\n",
      "account_name       0\n",
      "industry           0\n",
      "country            0\n",
      "signup_date        0\n",
      "referral_source    0\n",
      "plan_tier          0\n",
      "seats              0\n",
      "is_trial           0\n",
      "churn_flag         0\n",
      "dtype: int64\n",
      "Subscriptions: \n",
      " subscription_id         0\n",
      "account_id              0\n",
      "start_date              0\n",
      "end_date             4514\n",
      "plan_tier               0\n",
      "seats                   0\n",
      "mrr_amount              0\n",
      "arr_amount              0\n",
      "is_trial                0\n",
      "upgrade_flag            0\n",
      "downgrade_flag          0\n",
      "churn_flag              0\n",
      "billing_frequency       0\n",
      "auto_renew_flag         0\n",
      "dtype: int64\n",
      "Churn Events: \n",
      " churn_event_id                0\n",
      "account_id                    0\n",
      "churn_date                    0\n",
      "reason_code                   0\n",
      "refund_amount_usd             0\n",
      "preceding_upgrade_flag        0\n",
      "preceding_downgrade_flag      0\n",
      "is_reactivation               0\n",
      "feedback_text               148\n",
      "dtype: int64\n"
     ]
    }
   ],
   "source": [
    "print(\"\\nMissing values summary:\")\n",
    "print(\"Accounts: \\n\",accounts.isna().sum())\n",
    "print(\"Subscriptions: \\n\",subscriptions.isna().sum())\n",
    "print(\"Churn Events: \\n\",churn_events.isna().sum())"
   ]
  },
  {
   "cell_type": "markdown",
   "id": "5870220d-56b7-45b0-a794-b8349c9eb355",
   "metadata": {},
   "source": [
    "##### Preview of dates after conversion"
   ]
  },
  {
   "cell_type": "code",
   "execution_count": 15,
   "id": "5f7c48ef-10b2-4ba2-a99b-2a69606862a9",
   "metadata": {},
   "outputs": [
    {
     "name": "stdout",
     "output_type": "stream",
     "text": [
      "Converted date columns:\n",
      "Signup Date 0   2024-10-16\n",
      "1   2023-08-17\n",
      "2   2024-08-27\n",
      "3   2023-08-27\n",
      "4   2024-10-27\n",
      "Name: signup_date, dtype: datetime64[ns]\n",
      "Start & end dates:\n",
      "   start_date    end_date\n",
      "0 2023-12-23  2024-04-12\n",
      "1 2024-06-11         NaN\n",
      "2 2024-11-25         NaN\n",
      "3 2024-11-23  2024-12-13\n",
      "4 2024-01-10         NaN\n",
      "Churn dates: 0   2024-10-27\n",
      "1   2024-06-25\n",
      "2   2024-11-12\n",
      "3   2023-11-01\n",
      "4   2024-12-30\n",
      "Name: churn_date, dtype: datetime64[ns]\n"
     ]
    }
   ],
   "source": [
    "print(\"Converted date columns:\")\n",
    "print(\"Signup Date\", accounts[\"signup_date\"].head())\n",
    "print(\"Start & end dates:\\n\", subscriptions[[\"start_date\",\"end_date\"]].head())\n",
    "print(\"Churn dates:\",churn_events[\"churn_date\"].head())"
   ]
  },
  {
   "cell_type": "code",
   "execution_count": 16,
   "id": "fca2a54d-2452-47ff-93a6-1841c12dbf58",
   "metadata": {},
   "outputs": [
    {
     "name": "stdout",
     "output_type": "stream",
     "text": [
      "\n",
      "Dtypes after conversion:\n",
      "account_id                 object\n",
      "account_name               object\n",
      "industry                   object\n",
      "country                    object\n",
      "signup_date        datetime64[ns]\n",
      "referral_source            object\n",
      "plan_tier                  object\n",
      "seats                       int64\n",
      "is_trial                     bool\n",
      "churn_flag                   bool\n",
      "dtype: object\n",
      "subscription_id              object\n",
      "account_id                   object\n",
      "start_date           datetime64[ns]\n",
      "end_date                     object\n",
      "plan_tier                    object\n",
      "seats                         int64\n",
      "mrr_amount                    int64\n",
      "arr_amount                    int64\n",
      "is_trial                       bool\n",
      "upgrade_flag                   bool\n",
      "downgrade_flag                 bool\n",
      "churn_flag                     bool\n",
      "billing_frequency            object\n",
      "auto_renew_flag                bool\n",
      "dtype: object\n",
      "churn_event_id                      object\n",
      "account_id                          object\n",
      "churn_date                  datetime64[ns]\n",
      "reason_code                         object\n",
      "refund_amount_usd                  float64\n",
      "preceding_upgrade_flag                bool\n",
      "preceding_downgrade_flag              bool\n",
      "is_reactivation                       bool\n",
      "feedback_text                       object\n",
      "dtype: object\n"
     ]
    }
   ],
   "source": [
    "print(\"\\nDtypes after conversion:\")\n",
    "print(accounts.dtypes)\n",
    "print(subscriptions.dtypes)\n",
    "print(churn_events.dtypes)"
   ]
  },
  {
   "cell_type": "markdown",
   "id": "2b3e8d68-5d15-4a87-af1e-7beabbeabaff",
   "metadata": {},
   "source": [
    "### Step 3: Creating the Final Dataset"
   ]
  },
  {
   "cell_type": "markdown",
   "id": "366a2f13-8cfc-46fa-87fc-b1a598a6bfca",
   "metadata": {},
   "source": [
    "##### Merging accounts + subscriptions"
   ]
  },
  {
   "cell_type": "code",
   "execution_count": 19,
   "id": "5da4cb73-6576-407f-8160-1830dc902563",
   "metadata": {},
   "outputs": [],
   "source": [
    "df = pd.merge(\n",
    "    accounts,\n",
    "    subscriptions,\n",
    "    on=\"account_id\",\n",
    "    how=\"left\",\n",
    "    suffixes=(\"_acc\",\"_sub\")\n",
    ")"
   ]
  },
  {
   "cell_type": "markdown",
   "id": "77cb7a96-b2dc-4980-af15-a22d71abb270",
   "metadata": {},
   "source": [
    "##### Merging with churn_events"
   ]
  },
  {
   "cell_type": "code",
   "execution_count": 21,
   "id": "dca28119-46ab-42a2-9d3e-f78473008d78",
   "metadata": {},
   "outputs": [],
   "source": [
    "final_df = pd.merge(\n",
    "    df,\n",
    "    churn_events[[\"account_id\", \"churn_date\", \"reason_code\", \"refund_amount_usd\"]],\n",
    "    on=\"account_id\",\n",
    "    how=\"left\"\n",
    ")"
   ]
  },
  {
   "cell_type": "code",
   "execution_count": 22,
   "id": "cf18be56-0674-4679-adbc-81701f7c83c2",
   "metadata": {},
   "outputs": [
    {
     "name": "stdout",
     "output_type": "stream",
     "text": [
      "Final DF shape: (7429, 26)\n",
      "  account_id account_name industry country signup_date referral_source  \\\n",
      "0   A-2e4581    Company_0   EdTech      US  2024-10-16         partner   \n",
      "1   A-2e4581    Company_0   EdTech      US  2024-10-16         partner   \n",
      "2   A-2e4581    Company_0   EdTech      US  2024-10-16         partner   \n",
      "3   A-2e4581    Company_0   EdTech      US  2024-10-16         partner   \n",
      "4   A-2e4581    Company_0   EdTech      US  2024-10-16         partner   \n",
      "\n",
      "  plan_tier_acc  seats_acc  is_trial_acc  churn_flag_acc subscription_id  \\\n",
      "0         Basic          9         False           False        S-faa8ec   \n",
      "1         Basic          9         False           False        S-faa8ec   \n",
      "2         Basic          9         False           False        S-b78829   \n",
      "3         Basic          9         False           False        S-b78829   \n",
      "4         Basic          9         False           False        S-7ce677   \n",
      "\n",
      "  start_date end_date plan_tier_sub  seats_sub  mrr_amount  arr_amount  \\\n",
      "0 2024-12-09      NaN         Basic         11         209        2508   \n",
      "1 2024-12-09      NaN         Basic         11         209        2508   \n",
      "2 2024-11-12      NaN           Pro         20         980       11760   \n",
      "3 2024-11-12      NaN           Pro         20         980       11760   \n",
      "4 2024-10-20      NaN           Pro          9         441        5292   \n",
      "\n",
      "   is_trial_sub  upgrade_flag  downgrade_flag  churn_flag_sub  \\\n",
      "0         False         False           False           False   \n",
      "1         False         False           False           False   \n",
      "2         False         False           False           False   \n",
      "3         False         False           False           False   \n",
      "4         False         False           False           False   \n",
      "\n",
      "  billing_frequency  auto_renew_flag churn_date reason_code  refund_amount_usd  \n",
      "0           monthly             True 2024-11-23      budget                0.0  \n",
      "1           monthly             True 2024-12-05  competitor                0.0  \n",
      "2           monthly             True 2024-11-23      budget                0.0  \n",
      "3           monthly             True 2024-12-05  competitor                0.0  \n",
      "4           monthly             True 2024-11-23      budget                0.0  \n"
     ]
    }
   ],
   "source": [
    "print(\"Final DF shape:\", final_df.shape)\n",
    "print(final_df.head())"
   ]
  },
  {
   "cell_type": "markdown",
   "id": "06433fc3-3588-4cb5-8b09-83ee9345631b",
   "metadata": {},
   "source": [
    "##### Checking how many customers actually have a churn event"
   ]
  },
  {
   "cell_type": "code",
   "execution_count": 24,
   "id": "cfe3aac3-9f6a-4fc4-aa26-9b1443578f09",
   "metadata": {},
   "outputs": [
    {
     "name": "stdout",
     "output_type": "stream",
     "text": [
      "Churned customers count: 5957\n"
     ]
    }
   ],
   "source": [
    "print(\"Churned customers count:\", final_df[\"churn_date\"].notna().sum())"
   ]
  },
  {
   "cell_type": "markdown",
   "id": "67f7c9e8-7cd9-46c6-b42d-0c8d9a81b380",
   "metadata": {},
   "source": [
    "##### Checking for missing values"
   ]
  },
  {
   "cell_type": "code",
   "execution_count": 26,
   "id": "3cc1266d-2a74-4e80-8c6a-bd7c50730937",
   "metadata": {},
   "outputs": [
    {
     "name": "stdout",
     "output_type": "stream",
     "text": [
      "\n",
      "Missing values summary:\n",
      " account_id              0\n",
      "account_name            0\n",
      "industry                0\n",
      "country                 0\n",
      "signup_date             0\n",
      "referral_source         0\n",
      "plan_tier_acc           0\n",
      "seats_acc               0\n",
      "is_trial_acc            0\n",
      "churn_flag_acc          0\n",
      "subscription_id         0\n",
      "start_date              0\n",
      "end_date             6694\n",
      "plan_tier_sub           0\n",
      "seats_sub               0\n",
      "mrr_amount              0\n",
      "arr_amount              0\n",
      "is_trial_sub            0\n",
      "upgrade_flag            0\n",
      "downgrade_flag          0\n",
      "churn_flag_sub          0\n",
      "billing_frequency       0\n",
      "auto_renew_flag         0\n",
      "churn_date           1472\n",
      "reason_code          1472\n",
      "refund_amount_usd    1472\n",
      "dtype: int64\n"
     ]
    }
   ],
   "source": [
    "print(\"\\nMissing values summary:\\n\", final_df.isna().sum())"
   ]
  },
  {
   "cell_type": "markdown",
   "id": "cf6effbc-53e2-49c7-b5d6-7323b30e6c9b",
   "metadata": {},
   "source": [
    "### Step 4: Exploratory Data Analysis (EDA)"
   ]
  },
  {
   "cell_type": "markdown",
   "id": "8a776a37-ac42-4e79-80fe-6f84b0f4cbcc",
   "metadata": {},
   "source": [
    "##### Basic information about data"
   ]
  },
  {
   "cell_type": "code",
   "execution_count": 29,
   "id": "e5df048d-6997-485d-931e-e39322360e3f",
   "metadata": {},
   "outputs": [
    {
     "name": "stdout",
     "output_type": "stream",
     "text": [
      "       account_id account_name  industry country  \\\n",
      "count        7429         7429      7429    7429   \n",
      "unique        500          500         5       7   \n",
      "top      A-0cc442  Company_198  DevTools      US   \n",
      "freq           52           52      1756    4417   \n",
      "mean          NaN          NaN       NaN     NaN   \n",
      "min           NaN          NaN       NaN     NaN   \n",
      "25%           NaN          NaN       NaN     NaN   \n",
      "50%           NaN          NaN       NaN     NaN   \n",
      "75%           NaN          NaN       NaN     NaN   \n",
      "max           NaN          NaN       NaN     NaN   \n",
      "std           NaN          NaN       NaN     NaN   \n",
      "\n",
      "                          signup_date referral_source plan_tier_acc  \\\n",
      "count                            7429            7429          7429   \n",
      "unique                            NaN               5             3   \n",
      "top                               NaN         organic           Pro   \n",
      "freq                              NaN            1814          2642   \n",
      "mean    2024-01-22 10:26:16.847489792             NaN           NaN   \n",
      "min               2023-01-02 00:00:00             NaN           NaN   \n",
      "25%               2023-08-06 00:00:00             NaN           NaN   \n",
      "50%               2024-01-30 00:00:00             NaN           NaN   \n",
      "75%               2024-07-21 00:00:00             NaN           NaN   \n",
      "max               2024-12-31 00:00:00             NaN           NaN   \n",
      "std                               NaN             NaN           NaN   \n",
      "\n",
      "          seats_acc is_trial_acc churn_flag_acc subscription_id  \\\n",
      "count   7429.000000         7429           7429            7429   \n",
      "unique          NaN            2              2            5000   \n",
      "top             NaN        False          False        S-e7a190   \n",
      "freq            NaN         5972           5757               5   \n",
      "mean      19.637098          NaN            NaN             NaN   \n",
      "min        1.000000          NaN            NaN             NaN   \n",
      "25%        5.000000          NaN            NaN             NaN   \n",
      "50%       14.000000          NaN            NaN             NaN   \n",
      "75%       27.000000          NaN            NaN             NaN   \n",
      "max      163.000000          NaN            NaN             NaN   \n",
      "std       20.056153          NaN            NaN             NaN   \n",
      "\n",
      "                           start_date    end_date plan_tier_sub    seats_sub  \\\n",
      "count                            7429         735          7429  7429.000000   \n",
      "unique                            NaN         208             3          NaN   \n",
      "top                               NaN  2024-12-31    Enterprise          NaN   \n",
      "freq                              NaN          33          2551          NaN   \n",
      "mean    2024-07-13 11:37:59.983846912         NaN           NaN    29.371382   \n",
      "min               2023-01-09 00:00:00         NaN           NaN     1.000000   \n",
      "25%               2024-04-17 00:00:00         NaN           NaN    13.000000   \n",
      "50%               2024-09-01 00:00:00         NaN           NaN    24.000000   \n",
      "75%               2024-11-17 00:00:00         NaN           NaN    40.000000   \n",
      "max               2024-12-31 00:00:00         NaN           NaN   189.000000   \n",
      "std                               NaN         NaN           NaN    22.609002   \n",
      "\n",
      "          mrr_amount     arr_amount is_trial_sub upgrade_flag downgrade_flag  \\\n",
      "count    7429.000000    7429.000000         7429         7429           7429   \n",
      "unique           NaN            NaN            2            2              2   \n",
      "top              NaN            NaN        False        False          False   \n",
      "freq             NaN            NaN         6279         6613           7100   \n",
      "mean     2226.332346   26715.988155          NaN          NaN            NaN   \n",
      "min         0.000000       0.000000          NaN          NaN            NaN   \n",
      "25%       266.000000    3192.000000          NaN          NaN            NaN   \n",
      "50%       882.000000   10584.000000          NaN          NaN            NaN   \n",
      "75%      2744.000000   32928.000000          NaN          NaN            NaN   \n",
      "max     33830.000000  405960.000000          NaN          NaN            NaN   \n",
      "std      3337.186814   40046.241768          NaN          NaN            NaN   \n",
      "\n",
      "       churn_flag_sub billing_frequency auto_renew_flag  \\\n",
      "count            7429              7429            7429   \n",
      "unique              2                 2               2   \n",
      "top             False           monthly            True   \n",
      "freq             6694              3787            5966   \n",
      "mean              NaN               NaN             NaN   \n",
      "min               NaN               NaN             NaN   \n",
      "25%               NaN               NaN             NaN   \n",
      "50%               NaN               NaN             NaN   \n",
      "75%               NaN               NaN             NaN   \n",
      "max               NaN               NaN             NaN   \n",
      "std               NaN               NaN             NaN   \n",
      "\n",
      "                           churn_date reason_code  refund_amount_usd  \n",
      "count                            5957        5957        5957.000000  \n",
      "unique                            NaN           6                NaN  \n",
      "top                               NaN    features                NaN  \n",
      "freq                              NaN        1176                NaN  \n",
      "mean    2024-07-14 14:11:37.398019072         NaN          13.842432  \n",
      "min               2023-01-25 00:00:00         NaN           0.000000  \n",
      "25%               2024-04-26 00:00:00         NaN           0.000000  \n",
      "50%               2024-08-29 00:00:00         NaN           0.000000  \n",
      "75%               2024-11-15 00:00:00         NaN           0.000000  \n",
      "max               2024-12-31 00:00:00         NaN         392.920000  \n",
      "std                               NaN         NaN          37.843432  \n"
     ]
    }
   ],
   "source": [
    "print(final_df.describe(include='all'))"
   ]
  },
  {
   "cell_type": "markdown",
   "id": "ecb3b9f9-39ef-4000-870b-461b0bd6f66f",
   "metadata": {},
   "source": [
    "##### Number of unique accounts"
   ]
  },
  {
   "cell_type": "code",
   "execution_count": 31,
   "id": "8d44aa9d-30bc-40d8-869b-f2ac664a191e",
   "metadata": {},
   "outputs": [
    {
     "name": "stdout",
     "output_type": "stream",
     "text": [
      "unique accounts: 500\n"
     ]
    }
   ],
   "source": [
    "unique_accounts = final_df['account_id'].nunique()\n",
    "print(\"unique accounts:\",unique_accounts)"
   ]
  },
  {
   "cell_type": "markdown",
   "id": "6dbc9002-cad2-478a-ab0e-ab90df111ae9",
   "metadata": {},
   "source": [
    "##### Churn rate"
   ]
  },
  {
   "cell_type": "code",
   "execution_count": 33,
   "id": "7ef076d3-dd4f-4b1e-bda0-57fcc1858b7b",
   "metadata": {},
   "outputs": [
    {
     "name": "stdout",
     "output_type": "stream",
     "text": [
      "Global churn rate:80.19%\n"
     ]
    }
   ],
   "source": [
    "churn_rate = (final_df[\"churn_date\"].notna().mean()) * 100\n",
    "print(f\"Global churn rate:{churn_rate:.2f}%\")"
   ]
  },
  {
   "cell_type": "markdown",
   "id": "5682dc20-e25c-4d06-8ee1-9389830f05a9",
   "metadata": {},
   "source": [
    "**Result:** ~80.19% of accounts have churned at least once.  \n",
    "This indicates a **high churn rate**, typical for **trial-heavy** or **highly competitive SaaS markets**.\n"
   ]
  },
  {
   "cell_type": "code",
   "execution_count": 35,
   "id": "9c672189-c9dc-44ad-9f5f-5b06a7fe5dfd",
   "metadata": {},
   "outputs": [
    {
     "name": "stdout",
     "output_type": "stream",
     "text": [
      "Churn rate by plan:\n",
      " plan_tier_sub\n",
      "Basic         80.257155\n",
      "Enterprise    80.164641\n",
      "Pro           80.137819\n",
      "Name: churn_date, dtype: float64\n"
     ]
    }
   ],
   "source": [
    "churn_by_plan = (\n",
    "    final_df.groupby(\"plan_tier_sub\")[\"churn_date\"]\n",
    "    .apply(lambda x: x.notna().mean()*100)\n",
    "    .sort_values(ascending=False)\n",
    ")\n",
    "\n",
    "print(\"Churn rate by plan:\\n\",churn_by_plan)"
   ]
  },
  {
   "cell_type": "code",
   "execution_count": 36,
   "id": "c37d9b15-e3f8-4e58-a44d-12db92e1e2be",
   "metadata": {},
   "outputs": [
    {
     "data": {
      "image/png": "[encoded data removed]",
      "text/plain": [
       "<Figure size 700x400 with 1 Axes>"
      ]
     },
     "metadata": {},
     "output_type": "display_data"
    }
   ],
   "source": [
    "churn_by_plan.plot(kind='bar',figsize=(7,4))\n",
    "plt.title(\"Churn rate by subscription plan\")\n",
    "plt.ylabel(\"Churn rate (%)\")\n",
    "plt.xlabel(\"Plan\")\n",
    "plt.xticks(rotation=0)\n",
    "plt.show()"
   ]
  },
  {
   "cell_type": "markdown",
   "id": "a6f2578b-ae51-4aac-a3e8-bd4efee5650b",
   "metadata": {},
   "source": [
    "**Insight:** No significant differences were found between tiers - churn is widespread across all customer segments."
   ]
  },
  {
   "cell_type": "code",
   "execution_count": 38,
   "id": "9f551710-1543-445a-800f-ae0d932f2bc7",
   "metadata": {},
   "outputs": [
    {
     "name": "stdout",
     "output_type": "stream",
     "text": [
      "Churn rate by industry:\n",
      " industry\n",
      "DevTools         83.542141\n",
      "EdTech           80.557904\n",
      "Cybersecurity    79.756263\n",
      "FinTech          78.976918\n",
      "HealthTech       77.517730\n",
      "Name: churn_date, dtype: float64\n"
     ]
    }
   ],
   "source": [
    "churn_by_industry = (\n",
    "    final_df.groupby(\"industry\")[\"churn_date\"]\n",
    "    .apply(lambda x: x.notna().mean() *100)\n",
    "    .sort_values(ascending=False)\n",
    ")\n",
    "print(\"Churn rate by industry:\\n\",churn_by_industry)"
   ]
  },
  {
   "cell_type": "code",
   "execution_count": 39,
   "id": "976744c9-dacd-4580-bef3-ac8364ecb998",
   "metadata": {},
   "outputs": [
    {
     "data": {
      "image/png": "[encoded data removed]",
      "text/plain": [
       "<Figure size 700x400 with 1 Axes>"
      ]
     },
     "metadata": {},
     "output_type": "display_data"
    }
   ],
   "source": [
    "churn_by_industry.plot(kind='bar',figsize=(7,4))\n",
    "plt.title('Churn rate by Industry')\n",
    "plt.ylabel('Churn rate (%)')\n",
    "plt.xlabel('Industry')\n",
    "plt.xticks(rotation=45)\n",
    "plt.show()"
   ]
  },
  {
   "cell_type": "markdown",
   "id": "5e699506-c541-456d-83fc-3aff71903eaa",
   "metadata": {},
   "source": [
    "**Insight:** \n",
    "-  Developer-oriented products (DevTools) experience the highest churn, possibly due to market competition or trial testing behavior.\n",
    "-  HealthTech and FinTech customers show the most stability."
   ]
  },
  {
   "cell_type": "code",
   "execution_count": 41,
   "id": "595f54c6-5186-4fcb-a8f5-4de525650742",
   "metadata": {},
   "outputs": [
    {
     "name": "stdout",
     "output_type": "stream",
     "text": [
      "Reasons for resignation:\n",
      " reason_code\n",
      "NaN           1472\n",
      "features      1176\n",
      "budget        1051\n",
      "support       1023\n",
      "pricing        908\n",
      "competitor     900\n",
      "unknown        899\n",
      "Name: count, dtype: int64\n"
     ]
    }
   ],
   "source": [
    "reason_counts = final_df[\"reason_code\"].value_counts(dropna=False)\n",
    "print(\"Reasons for resignation:\\n\",reason_counts)"
   ]
  },
  {
   "cell_type": "code",
   "execution_count": 42,
   "id": "b886ad7f-f1dd-4fd1-8c5a-5eb43a3886e1",
   "metadata": {},
   "outputs": [],
   "source": [
    "reasons_counts_clean = final_df[\"reason_code\"].dropna().value_counts()"
   ]
  },
  {
   "cell_type": "code",
   "execution_count": 43,
   "id": "3afa49e5-a40a-4e7b-aa60-de2aaa9df7e3",
   "metadata": {},
   "outputs": [
    {
     "data": {
      "image/png": "[encoded data removed]",
      "text/plain": [
       "<Figure size 640x480 with 1 Axes>"
      ]
     },
     "metadata": {},
     "output_type": "display_data"
    }
   ],
   "source": [
    "sns.barplot(x=reasons_counts_clean.values,y=reasons_counts_clean.index)\n",
    "plt.title(\"Reasons for resignation\")\n",
    "plt.xlabel(\"Count\")\n",
    "plt.ylabel(\"Reason\")\n",
    "plt.show()"
   ]
  },
  {
   "cell_type": "markdown",
   "id": "217e2629-505d-496c-8a25-0d4ff29b612d",
   "metadata": {},
   "source": [
    "**Key takeaway:**\n",
    "-  Most customers cite missing features or budget/pricing as reasons for leaving.\n",
    "-  A significant number did not provide feedback, suggesting room to improve exit surveys."
   ]
  },
  {
   "cell_type": "code",
   "execution_count": 85,
   "id": "caccdd55-77d7-4660-b912-3b3c3f97c3d8",
   "metadata": {},
   "outputs": [
    {
     "data": {
      "image/png": "[encoded data removed]",
      "text/plain": [
       "<Figure size 640x480 with 1 Axes>"
      ]
     },
     "metadata": {},
     "output_type": "display_data"
    }
   ],
   "source": [
    "sns.histplot(final_df['mrr_amount'],bins=30,kde=True)\n",
    "plt.title('Monthly Revenue Distribution')\n",
    "plt.xlabel('MRR ($)')\n",
    "plt.ylabel('Number of subscriptions')\n",
    "plt.show()"
   ]
  },
  {
   "cell_type": "markdown",
   "id": "0215cf20-bd39-48c9-9d1e-080d5c7149b9",
   "metadata": {},
   "source": [
    "A histogram of **MRR (Monthly Recurring Revenue)** shows a right-skewed distribution - most subscriptions contribute smaller MRR values, while a few large enterprise clients account for most revenue."
   ]
  },
  {
   "cell_type": "markdown",
   "id": "d16d12f1-f51b-441c-9986-733ea5bfeebd",
   "metadata": {},
   "source": [
    "### Step 5: Preparing data for export"
   ]
  },
  {
   "cell_type": "code",
   "execution_count": 89,
   "id": "4d2ae7e0-b64d-4e31-9d01-57940dae7663",
   "metadata": {},
   "outputs": [
    {
     "name": "stdout",
     "output_type": "stream",
     "text": [
      "Columns:\n",
      "Index(['account_id', 'account_name', 'industry', 'country', 'signup_date',\n",
      "       'referral_source', 'plan_tier_sub', 'billing_frequency',\n",
      "       'auto_renew_flag', 'mrr_amount', 'arr_amount', 'upgrade_flag',\n",
      "       'downgrade_flag', 'churn_date', 'reason_code', 'refund_amount_usd'],\n",
      "      dtype='object')\n",
      "\n",
      "Number of records: 7429\n"
     ]
    }
   ],
   "source": [
    "final_df_clean = final_df.copy()\n",
    "\n",
    "columns_to_keep = [\n",
    "    'account_id', 'account_name', 'industry', 'country',\n",
    "    'signup_date', 'referral_source',\n",
    "    'plan_tier_sub', 'billing_frequency', 'auto_renew_flag',\n",
    "    'mrr_amount', 'arr_amount', 'is_trial', \n",
    "    'upgrade_flag', 'downgrade_flag', 'churn_date',\n",
    "    'reason_code', 'refund_amount_usd', 'preceding_upgrade_flag',\n",
    "    'preceding_downgrade_flag', 'is_reactivation'\n",
    "]\n",
    "\n",
    "final_df_clean = final_df_clean[[col for col in columns_to_keep if col in final_df_clean.columns]]\n",
    "\n",
    "print(\"Columns:\")\n",
    "print(final_df_clean.columns)\n",
    "print(\"\\nNumber of records:\", len(final_df_clean))"
   ]
  },
  {
   "cell_type": "markdown",
   "id": "be57ceb5-64a7-419a-a009-323d32b8ce9c",
   "metadata": {},
   "source": [
    "##### Converting date columns to datetime type"
   ]
  },
  {
   "cell_type": "code",
   "execution_count": 95,
   "id": "ad3fdf11-5ad9-471a-8da6-920b1fbe16e0",
   "metadata": {},
   "outputs": [],
   "source": [
    "date_cols = ['signup_date', 'churn_date']\n",
    "for col in date_cols:\n",
    "    if col in final_df_clean.columns:\n",
    "        final_df_clean[col] = pd.to_datetime(final_df_clean[col], errors='coerce')"
   ]
  },
  {
   "cell_type": "markdown",
   "id": "0024afac-eebf-4805-b291-913d2a317a57",
   "metadata": {},
   "source": [
    "##### Converting bool to int"
   ]
  },
  {
   "cell_type": "code",
   "execution_count": null,
   "id": "7e4e347c-637d-44e7-a4b1-3e571d30ccc1",
   "metadata": {},
   "outputs": [],
   "source": [
    "bool_cols = final_df_clean.select_dtypes(include='bool').columns\n",
    "for col in bool_cols:\n",
    "    final_df_clean[col] = final_df_clean[col].astype(int)"
   ]
  },
  {
   "cell_type": "markdown",
   "id": "f7cc05d8-25cb-4b70-9083-afbe902ac718",
   "metadata": {},
   "source": [
    "##### Export to CSV"
   ]
  },
  {
   "cell_type": "code",
   "execution_count": 50,
   "id": "95b864a2-b309-43fe-ae92-06934f1d1a12",
   "metadata": {},
   "outputs": [],
   "source": [
    "final_df_clean.to_csv(\"final_churn_dataset.csv\", index=False, encoding=\"utf-8-sig\")"
   ]
  },
  {
   "cell_type": "code",
   "execution_count": null,
   "id": "5f08a675-ff12-4c39-8cdc-0d851ff77378",
   "metadata": {},
   "outputs": [],
   "source": []
  }
 ],
 "metadata": {
  "kernelspec": {
   "display_name": "Python [conda env:base] *",
   "language": "python",
   "name": "conda-base-py"
  },
  "language_info": {
   "codemirror_mode": {
    "name": "ipython",
    "version": 3
   },
   "file_extension": ".py",
   "mimetype": "text/x-python",
   "name": "python",
   "nbconvert_exporter": "python",
   "pygments_lexer": "ipython3",
   "version": "3.12.7"
  }
 },
 "nbformat": 4,
 "nbformat_minor": 5
}
